{
 "cells": [
  {
   "cell_type": "code",
   "execution_count": null,
   "metadata": {},
   "outputs": [
    {
     "ename": "",
     "evalue": "",
     "output_type": "error",
     "traceback": [
      "\u001b[1;31mRunning cells with 'dsfs' requires the ipykernel package.\n",
      "\u001b[1;31mRun the following command to install 'ipykernel' into the Python environment. \n",
      "\u001b[1;31mCommand: 'conda install -n dsfs ipykernel --update-deps --force-reinstall'"
     ]
    }
   ],
   "source": [
    "from typing import List, Tuple, Dict, Union\n",
    "\n",
    "type User = dict[str, Union[int, str]]\n",
    "\n",
    "users: List[User] = [\n",
    "  {\"id\":0, \"name\":'Hero'},\n",
    "  {\"id\":1, \"name\":'Dunn'},\n",
    "  {\"id\":2, \"name\":'Sue'},\n",
    "  {\"id\":3, \"name\":'Chi'},\n",
    "  {\"id\":4, \"name\":'Thor'},\n",
    "  {\"id\":5, \"name\":'Clive'},\n",
    "  {\"id\":6, \"name\":'Hicks'},\n",
    "  {\"id\":7, \"name\":'Devin'},\n",
    "  {\"id\":8, \"name\":'Kate'},\n",
    "  {\"id\":9, \"name\":'Klein'},\n",
    "]\n",
    "\n",
    "friendship_pairs = [\n",
    "  (0,1),\n",
    "  (0,2),\n",
    "  (1,2),\n",
    "  (1,3),\n",
    "  (2,3),\n",
    "  (3,4),\n",
    "  (4,5),\n",
    "  (5,6),\n",
    "  (5,7),\n",
    "  (6,8),\n",
    "  (7,8),\n",
    "  (8,9)\n",
    "]"
   ]
  },
  {
   "cell_type": "code",
   "execution_count": null,
   "metadata": {},
   "outputs": [
    {
     "ename": "",
     "evalue": "",
     "output_type": "error",
     "traceback": [
      "\u001b[1;31mRunning cells with 'dsfs' requires the ipykernel package.\n",
      "\u001b[1;31mRun the following command to install 'ipykernel' into the Python environment. \n",
      "\u001b[1;31mCommand: 'conda install -n dsfs ipykernel --update-deps --force-reinstall'"
     ]
    }
   ],
   "source": [
    "# Initialize the dict with an empty list for each user id:\n",
    "# friendships: dict[int, List[int]] = {user[\"id\"]: [] for user in users}\n",
    "friendships: Dict[int, List[int]] = {};\n",
    "\n",
    "# I made like this because the other way was too complex to understand\n",
    "for user in users:\n",
    "  friendships[user[\"id\"]] = []\n",
    "\n",
    "# And loop over the friendship pairs to populate it:\n",
    "for i, j in friendship_pairs:\n",
    "  friendships[i].append(j) # Add j as a friend of user i\n",
    "  friendships[j].append(i) # Add i as a friend of user j\n",
    "  \n",
    "print(friendships)"
   ]
  },
  {
   "cell_type": "markdown",
   "metadata": {},
   "source": [
    "Discover how many friends each user has. Make a sum of the total number of friends each user has. Finally, calculate the average number of friends per user."
   ]
  },
  {
   "cell_type": "code",
   "execution_count": null,
   "metadata": {},
   "outputs": [
    {
     "ename": "",
     "evalue": "",
     "output_type": "error",
     "traceback": [
      "\u001b[1;31mRunning cells with 'dsfs' requires the ipykernel package.\n",
      "\u001b[1;31mRun the following command to install 'ipykernel' into the Python environment. \n",
      "\u001b[1;31mCommand: 'conda install -n dsfs ipykernel --update-deps --force-reinstall'"
     ]
    }
   ],
   "source": [
    "def number_of_friends(user:User):\n",
    "  \"\"\"How many friends does _user_ have?\"\"\"\n",
    "  user_id = user[\"id\"]\n",
    "  friend_ids = friendships[user_id]\n",
    "  return len(friend_ids)\n",
    "\n",
    "total_connections = sum(number_of_friends(user) for user in users) # 24\n",
    "num_users = len(users) # length of the users list\n",
    "avg_connections = total_connections / num_users # 24 / 10 == 2.4"
   ]
  },
  {
   "cell_type": "code",
   "execution_count": null,
   "metadata": {},
   "outputs": [
    {
     "ename": "",
     "evalue": "",
     "output_type": "error",
     "traceback": [
      "\u001b[1;31mRunning cells with 'dsfs' requires the ipykernel package.\n",
      "\u001b[1;31mRun the following command to install 'ipykernel' into the Python environment. \n",
      "\u001b[1;31mCommand: 'conda install -n dsfs ipykernel --update-deps --force-reinstall'"
     ]
    }
   ],
   "source": [
    "# Create a list (user_id, number_of_friends).\n",
    "num_friends_by_id = [(user[\"id\"], number_of_friends(user)) for user in users]\n",
    "\n",
    "# Sort the list\n",
    "num_friends_by_id.sort( # Sort the list\n",
    "  key=lambda id_and_friends: id_and_friends[1], # by num_friends\n",
    "  reverse=True) # largest to smallest\n",
    "\n",
    "# Each pair is (user_id, num_friends):\n",
    "# [(1, 3), (2, 3), (3, 3), (5, 3), (8, 3), (0, 2), (4, 2), (6, 2), (7, 2), (9, 1)]"
   ]
  },
  {
   "cell_type": "code",
   "execution_count": null,
   "metadata": {},
   "outputs": [
    {
     "ename": "",
     "evalue": "",
     "output_type": "error",
     "traceback": [
      "\u001b[1;31mRunning cells with 'dsfs' requires the ipykernel package.\n",
      "\u001b[1;31mRun the following command to install 'ipykernel' into the Python environment. \n",
      "\u001b[1;31mCommand: 'conda install -n dsfs ipykernel --update-deps --force-reinstall'"
     ]
    }
   ],
   "source": [
    "def foaf_ids_bad(user:User):\n",
    "  \"\"\"foaf is short for \"friend of a friend\" \"\"\"\n",
    "  return [foaf_id\n",
    "    for friend_id in friendships[user[\"id\"]]\n",
    "    for foaf_id in friendships[friend_id]]\n",
    "  \n",
    "print(friendships[0]) # [1, 2]\n",
    "print(friendships[1]) # [0, 2, 3]\n",
    "print(friendships[2]) # [0, 1, 3]"
   ]
  },
  {
   "cell_type": "code",
   "execution_count": null,
   "metadata": {},
   "outputs": [
    {
     "ename": "",
     "evalue": "",
     "output_type": "error",
     "traceback": [
      "\u001b[1;31mRunning cells with 'dsfs' requires the ipykernel package.\n",
      "\u001b[1;31mRun the following command to install 'ipykernel' into the Python environment. \n",
      "\u001b[1;31mCommand: 'conda install -n dsfs ipykernel --update-deps --force-reinstall'"
     ]
    }
   ],
   "source": [
    "from collections import Counter # not loaded by default\n",
    "\n",
    "def friends_of_friends(user:User):\n",
    "  user_id = user[\"id\"]\n",
    "  return Counter(\n",
    "    foaf_id\n",
    "    for friend_id in friendships[user_id] # For each of my friends,\n",
    "    for foaf_id in friendships[friend_id] # find their friends\n",
    "    if foaf_id != user_id # who aren't me\n",
    "    and foaf_id not in friendships[user_id] # and aren't my friends.\n",
    "  )\n",
    "  \n",
    "print(friends_of_friends(users[3])) # Counter({0: 2, 5: 1})"
   ]
  },
  {
   "cell_type": "code",
   "execution_count": null,
   "metadata": {},
   "outputs": [
    {
     "ename": "",
     "evalue": "",
     "output_type": "error",
     "traceback": [
      "\u001b[1;31mRunning cells with 'dsfs' requires the ipykernel package.\n",
      "\u001b[1;31mRun the following command to install 'ipykernel' into the Python environment. \n",
      "\u001b[1;31mCommand: 'conda install -n dsfs ipykernel --update-deps --force-reinstall'"
     ]
    }
   ],
   "source": [
    "type Interest = Tuple[int, str]\n",
    "\n",
    "interests: List[Interest] = [\n",
    "  (0, \"Hadoop\"), (0, \"Big Data\"), (0, \"HBase\"), (0, \"Java\"),\n",
    "  (0, \"Spark\"), (0, \"Storm\"), (0, \"Cassandra\"),\n",
    "  (1, \"NoSQL\"), (1, \"MongoDB\"), (1, \"Cassandra\"), (1, \"HBase\"),\n",
    "  (1, \"Postgres\"), (2, \"Python\"), (2, \"scikit-learn\"), (2, \"scipy\"),\n",
    "  (2, \"numpy\"), (2, \"statsmodels\"), (2, \"pandas\"), (3, \"R\"), (3, \"Python\"),\n",
    "  (3, \"statistics\"), (3, \"regression\"), (3, \"probability\"),\n",
    "  (4, \"machine learning\"), (4, \"regression\"), (4, \"decision trees\"),\n",
    "  (4, \"libsvm\"), (5, \"Python\"), (5, \"R\"), (5, \"Java\"), (5, \"C++\"),\n",
    "  (5, \"Haskell\"), (5, \"programming languages\"), (6, \"statistics\"),\n",
    "  (6, \"probability\"), (6, \"mathematics\"), (6, \"theory\"),\n",
    "  (7, \"machine learning\"), (7, \"scikit-learn\"), (7, \"Mahout\"),\n",
    "  (7, \"neural networks\"), (8, \"neural networks\"), (8, \"deep learning\"),\n",
    "  (8, \"Big Data\"), (8, \"artificial intelligence\"), (9, \"Hadoop\"),\n",
    "  (9, \"Java\"), (9, \"MapReduce\"), (9, \"Big Data\")\n",
    "]"
   ]
  },
  {
   "cell_type": "code",
   "execution_count": null,
   "metadata": {},
   "outputs": [
    {
     "ename": "",
     "evalue": "",
     "output_type": "error",
     "traceback": [
      "\u001b[1;31mRunning cells with 'dsfs' requires the ipykernel package.\n",
      "\u001b[1;31mRun the following command to install 'ipykernel' into the Python environment. \n",
      "\u001b[1;31mCommand: 'conda install -n dsfs ipykernel --update-deps --force-reinstall'"
     ]
    }
   ],
   "source": [
    "def data_scientists_who_like(target_interest:str):\n",
    "  \"\"\"Find the ids of all users who like the target interest.\"\"\"\n",
    "  return [user_id\n",
    "    for user_id, user_interest in interests\n",
    "    if user_interest == target_interest]\n",
    "  \n",
    "print(data_scientists_who_like(\"Java\")) # [0, 5, 9]"
   ]
  },
  {
   "cell_type": "code",
   "execution_count": null,
   "metadata": {},
   "outputs": [
    {
     "ename": "",
     "evalue": "",
     "output_type": "error",
     "traceback": [
      "\u001b[1;31mRunning cells with 'dsfs' requires the ipykernel package.\n",
      "\u001b[1;31mRun the following command to install 'ipykernel' into the Python environment. \n",
      "\u001b[1;31mCommand: 'conda install -n dsfs ipykernel --update-deps --force-reinstall'"
     ]
    }
   ],
   "source": [
    "from collections import defaultdict\n",
    "\n",
    "# Keys are interests, values are lists of user_ids with that interest\n",
    "user_ids_by_interest = defaultdict(list)\n",
    "\n",
    "for user_id, interest in interests:\n",
    "  user_ids_by_interest[interest].append(user_id)\n",
    "\n",
    "# Keys are user_ids, values are lists of interests for that user_id.\n",
    "interests_by_user_id = defaultdict(list)\n",
    "\n",
    "for user_id, interest in interests:\n",
    "  interests_by_user_id[user_id].append(interest)"
   ]
  },
  {
   "cell_type": "code",
   "execution_count": null,
   "metadata": {},
   "outputs": [
    {
     "ename": "",
     "evalue": "",
     "output_type": "error",
     "traceback": [
      "\u001b[1;31mRunning cells with 'dsfs' requires the ipykernel package.\n",
      "\u001b[1;31mRun the following command to install 'ipykernel' into the Python environment. \n",
      "\u001b[1;31mCommand: 'conda install -n dsfs ipykernel --update-deps --force-reinstall'"
     ]
    }
   ],
   "source": [
    "def most_common_interests_with(user:User):\n",
    "  return Counter(\n",
    "    interested_user_id\n",
    "    for interest in interests_by_user_id[user[\"id\"]]\n",
    "    for interested_user_id in user_ids_by_interest[interest]\n",
    "    if interested_user_id != user[\"id\"]\n",
    "  )\n",
    "  \n",
    "print(most_common_interests_with(users[0])) # Counter({9: 3, 1: 2, 8: 1, 5: 1})"
   ]
  }
 ],
 "metadata": {
  "kernelspec": {
   "display_name": "Python 3",
   "language": "python",
   "name": "python3"
  },
  "language_info": {
   "codemirror_mode": {
    "name": "ipython",
    "version": 3
   },
   "file_extension": ".py",
   "mimetype": "text/x-python",
   "name": "python",
   "nbconvert_exporter": "python",
   "pygments_lexer": "ipython3",
   "version": "3.6.13"
  }
 },
 "nbformat": 4,
 "nbformat_minor": 2
}
