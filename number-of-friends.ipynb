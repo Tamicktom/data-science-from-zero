{
 "cells": [
  {
   "cell_type": "code",
   "execution_count": 7,
   "metadata": {},
   "outputs": [],
   "source": [
    "from typing import List, Tuple\n",
    "\n",
    "type User = {\n",
    "  id: int,\n",
    "  name: string\n",
    "}\n",
    "\n",
    "users: List[User] = [\n",
    "  {\"id\":0, \"name\":'Hero'},\n",
    "  {\"id\":1, \"name\":'Dunn'},\n",
    "  {\"id\":2, \"name\":'Sue'},\n",
    "  {\"id\":3, \"name\":'Chi'},\n",
    "  {\"id\":4, \"name\":'Thor'},\n",
    "  {\"id\":5, \"name\":'Clive'},\n",
    "  {\"id\":6, \"name\":'Hicks'},\n",
    "  {\"id\":7, \"name\":'Devin'},\n",
    "  {\"id\":8, \"name\":'Kate'},\n",
    "  {\"id\":9, \"name\":'Klein'},\n",
    "]\n",
    "\n",
    "friendship_pairs = [\n",
    "  (0,1),\n",
    "  (0,2),\n",
    "  (1,2),\n",
    "  (1,3),\n",
    "  (2,3),\n",
    "  (3,4),\n",
    "  (4,5),\n",
    "  (5,6),\n",
    "  (5,7),\n",
    "  (6,8),\n",
    "  (7,8),\n",
    "  (8,9)\n",
    "]"
   ]
  },
  {
   "cell_type": "code",
   "execution_count": 8,
   "metadata": {},
   "outputs": [],
   "source": [
    "# Initialize the dict with an empty list for each user id:\n",
    "friendships = {user[\"id\"]: [] for user in users}\n",
    "\n",
    "# And loop over the friendship pairs to populate it:\n",
    "for i, j in friendship_pairs:\n",
    "  friendships[i].append(j) # Add j as a friend of user i\n",
    "  friendships[j].append(i) # Add i as a friend of user j"
   ]
  },
  {
   "cell_type": "code",
   "execution_count": 9,
   "metadata": {},
   "outputs": [],
   "source": [
    "def number_of_friends(user:User):\n",
    "  \"\"\"How many friends does _user_ have?\"\"\"\n",
    "  user_id = user[\"id\"]\n",
    "  friend_ids = friendships[user_id]\n",
    "  return len(friend_ids)"
   ]
  }
 ],
 "metadata": {
  "kernelspec": {
   "display_name": "Python 3",
   "language": "python",
   "name": "python3"
  },
  "language_info": {
   "codemirror_mode": {
    "name": "ipython",
    "version": 3
   },
   "file_extension": ".py",
   "mimetype": "text/x-python",
   "name": "python",
   "nbconvert_exporter": "python",
   "pygments_lexer": "ipython3",
   "version": "3.12.1"
  }
 },
 "nbformat": 4,
 "nbformat_minor": 2
}
